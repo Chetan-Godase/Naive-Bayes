{
  "nbformat": 4,
  "nbformat_minor": 0,
  "metadata": {
    "kernelspec": {
      "display_name": "Python 3",
      "language": "python",
      "name": "python3"
    },
    "language_info": {
      "codemirror_mode": {
        "name": "ipython",
        "version": 3
      },
      "file_extension": ".py",
      "mimetype": "text/x-python",
      "name": "python",
      "nbconvert_exporter": "python",
      "pygments_lexer": "ipython3",
      "version": "3.7.3"
    },
    "colab": {
      "name": "Naive_Bayes_without_lib.ipynb",
      "provenance": []
    }
  },
  "cells": [
    {
      "cell_type": "code",
      "metadata": {
        "id": "eKRWq6J-M6q3"
      },
      "source": [
        "#Importing all the packages for the execution of the code\n",
        "import pandas as pd\n",
        "import numpy as np\n",
        "import collections\n",
        "import itertools"
      ],
      "execution_count": 1,
      "outputs": []
    },
    {
      "cell_type": "code",
      "metadata": {
        "id": "P2THimEeM6q9"
      },
      "source": [
        "df_balance= pd.read_csv(\"/content/drive/MyDrive/datasets/balance-scale.csv\")\n",
        "dict_test={}\n",
        "\n",
        "df_balance=df_balance.replace('R','Positive')\n",
        "df_balance=df_balance.replace('L','Negative')\n",
        "\n",
        "df_training=df_balance.sample(frac=0.7)#spliting the data into traning and testing \n",
        "\n",
        "df_testing=pd.concat([df_balance, df_training, df_training]).drop_duplicates(keep=False)  \n",
        "dict_test=df_testing['Class'].to_dict()\n",
        "dict_uni_values=df_training.T.apply(lambda x: x.nunique(), axis=1).to_dict()#seeing all the unique values\n",
        "\n",
        "\n",
        "\n"
      ],
      "execution_count": 2,
      "outputs": []
    },
    {
      "cell_type": "code",
      "metadata": {
        "colab": {
          "base_uri": "https://localhost:8080/"
        },
        "id": "fKEw75k6Qmar",
        "outputId": "09ef06b5-adbb-4109-b26e-38a4622b5b61"
      },
      "source": [
        "from google.colab import drive\n",
        "drive.mount('/content/drive')"
      ],
      "execution_count": 3,
      "outputs": [
        {
          "output_type": "stream",
          "text": [
            "Drive already mounted at /content/drive; to attempt to forcibly remount, call drive.mount(\"/content/drive\", force_remount=True).\n"
          ],
          "name": "stdout"
        }
      ]
    },
    {
      "cell_type": "code",
      "metadata": {
        "id": "UVCJE4DhM6q-"
      },
      "source": [
        "list_uni_values=[]\n",
        "for i in df_training['Class']:\n",
        "    list_uni_values.append(i)\n",
        "unique=set(list_uni_values) \n",
        "\n",
        "dict_prior={}\n",
        "prior = df_training.groupby(\"Class\").size().div(len(df_training))\n",
        "dict_prior=prior.to_dict()#converting the probability df to dictionary\n",
        "total_values_inclass={}\n",
        "total_values_inclass = df_training.groupby(\"Class\").size().to_dict()#calculating the total values in the class\n"
      ],
      "execution_count": 4,
      "outputs": []
    },
    {
      "cell_type": "code",
      "metadata": {
        "id": "6un_oxBeM6q_"
      },
      "source": [
        "value_count_columns={}\n",
        "for column in df_training.columns:\n",
        "    if column != \"Class\":\n",
        "        sd=(df_training.groupby(column)[\"Class\"].value_counts()+1).to_dict()\n",
        "        value_count_columns[column]=sd    "
      ],
      "execution_count": 5,
      "outputs": []
    },
    {
      "cell_type": "code",
      "metadata": {
        "colab": {
          "base_uri": "https://localhost:8080/"
        },
        "id": "Qgp6iNOtM6rA",
        "outputId": "bcecf6b1-1ca4-45bf-ac1e-d69f7312524d"
      },
      "source": [
        "#doing m-estimate, its not required but putting it up\n",
        "condition_prob={}\n",
        "condition_prob_col={}\n",
        "for key,value in value_count_columns.items():\n",
        "    for key1,value1 in value.items():\n",
        "        total=(value1/(total_values_inclass[key1[1]]+dict_uni_values[key]))\n",
        "        condition_prob[key1]=total\n",
        "    condition_prob_col.setdefault(key,{}).update(condition_prob)\n",
        "print(condition_prob_col)    \n",
        " \n",
        "        \n",
        "        "
      ],
      "execution_count": 6,
      "outputs": [
        {
          "output_type": "stream",
          "text": [
            "{'LWght': {(1, 'Positive'): 0.68, (1, 'Negative'): 0.5, (2, 'Positive'): 0.32, (2, 'Negative'): 0.5}, 'LDist': {(1, 'Positive'): 0.3106796116504854, (1, 'Negative'): 0.5, (2, 'Positive'): 0.3106796116504854, (2, 'Negative'): 0.18518518518518517, (3, 'Positive'): 0.1553398058252427, (3, 'Negative'): 0.2962962962962963, (4, 'Positive'): 0.0970873786407767, (4, 'Negative'): 0.2222222222222222, (5, 'Positive'): 0.1262135922330097, (5, 'Negative'): 0.25925925925925924}, 'RWght': {(1, 'Positive'): 0.11650485436893204, (1, 'Negative'): 0.48148148148148145, (2, 'Positive'): 0.22330097087378642, (2, 'Negative'): 0.25925925925925924, (3, 'Positive'): 0.22330097087378642, (3, 'Negative'): 0.18518518518518517, (4, 'Positive'): 0.20388349514563106, (4, 'Negative'): 0.2222222222222222, (5, 'Positive'): 0.23300970873786409, (5, 'Negative'): 0.25925925925925924}, 'RDist': {(1, 'Positive'): 0.0970873786407767, (1, 'Negative'): 0.4444444444444444, (2, 'Positive'): 0.18446601941747573, (2, 'Negative'): 0.25925925925925924, (3, 'Positive'): 0.20388349514563106, (3, 'Negative'): 0.1111111111111111, (4, 'Positive'): 0.24271844660194175, (4, 'Negative'): 0.1111111111111111, (5, 'Positive'): 0.27184466019417475, (5, 'Negative'): 0.07407407407407407}}\n"
          ],
          "name": "stdout"
        }
      ]
    },
    {
      "cell_type": "code",
      "metadata": {
        "colab": {
          "base_uri": "https://localhost:8080/"
        },
        "id": "TRDdYOUMM6rB",
        "outputId": "1fb7cb0f-7f02-4d33-b28e-f4e3813d587a"
      },
      "source": [
        "cloumn_indexing={}\n",
        "prediction_labelling={}\n",
        "predic_of_R={}\n",
        "predic_of_L={}\n",
        "\n",
        "column_list=[\"LWght\",\"LDist\",\"RWght\",\"RDist\"]\n",
        "\n",
        "for x in column_list:\n",
        "    col_dex=[df_testing.columns.get_loc(x)]\n",
        "for x in column_list:\n",
        "    cloumn_indexing[df_testing.columns.get_loc(x)]=x\n",
        "\n",
        "for index,row in df_testing.iterrows():\n",
        "    R_calculate=1\n",
        "    L_calculate=1\n",
        "    for columns in range(1,5):\n",
        "    \n",
        "        R_calculate=R_calculate*condition_prob_col[cloumn_indexing[columns]][(row[cloumn_indexing[columns]],'Positive')]\n",
        "        L_calculate=L_calculate*condition_prob_col[cloumn_indexing[columns]][(row[cloumn_indexing[columns]],'Negative')]   \n",
        "    \n",
        "    predic_of_R=total_values_inclass['Positive']*R_calculate\n",
        "    predic_of_L=total_values_inclass['Negative']*L_calculate\n",
        "    \n",
        "    label='Positive' if predic_of_R>predic_of_L else 'Negative'\n",
        "    prediction_labelling[index]=label\n",
        "print(prediction_labelling)        \n",
        "\n"
      ],
      "execution_count": 7,
      "outputs": [
        {
          "output_type": "stream",
          "text": [
            "{0: 'Negative', 7: 'Positive', 9: 'Negative', 10: 'Positive', 12: 'Positive', 14: 'Negative', 16: 'Positive', 22: 'Positive', 23: 'Positive', 24: 'Negative', 25: 'Positive', 37: 'Positive', 44: 'Positive', 45: 'Positive', 47: 'Negative', 48: 'Negative', 51: 'Negative', 52: 'Positive', 53: 'Positive', 59: 'Positive', 63: 'Positive', 64: 'Positive', 65: 'Negative', 67: 'Positive', 76: 'Positive', 77: 'Positive', 79: 'Positive', 83: 'Positive', 84: 'Positive', 87: 'Negative', 90: 'Positive', 91: 'Positive', 94: 'Positive', 104: 'Positive', 105: 'Positive', 106: 'Negative', 108: 'Positive', 115: 'Negative', 116: 'Negative', 126: 'Positive', 130: 'Positive', 131: 'Positive', 132: 'Positive', 135: 'Positive', 140: 'Positive', 147: 'Positive', 148: 'Positive', 151: 'Positive', 156: 'Positive', 160: 'Negative', 168: 'Positive', 170: 'Positive'}\n"
          ],
          "name": "stdout"
        }
      ]
    },
    {
      "cell_type": "code",
      "metadata": {
        "id": "dXZu3EMaM6rC"
      },
      "source": [
        "df_predicted=pd.DataFrame.from_dict(prediction_labelling,orient='index')\n",
        "df_predicted.columns=[\"Predicted Label\"]\n",
        "\n"
      ],
      "execution_count": 8,
      "outputs": []
    },
    {
      "cell_type": "code",
      "metadata": {
        "id": "rkSJKwcsM6rD"
      },
      "source": [
        "TPC=0\n",
        "TNC=0\n",
        "FPC=0\n",
        "FNC=0\n",
        "for key in dict_test.keys():\n",
        "    for key1 in prediction_labelling.keys():\n",
        "        if key == key1:\n",
        "            if dict_test[key] == 'Positive' and prediction_labelling[key] == dict_test[key]:\n",
        "                TPC+=1\n",
        "            elif dict_test[key] == 'Negative' and prediction_labelling[key] == dict_test[key]:\n",
        "                TNC+=1\n",
        "            elif dict_test[key] == 'Positive' and prediction_labelling[key] != dict_test[key]:\n",
        "                FPC+=1\n",
        "            elif dict_test[key] == 'Negative' and prediction_labelling[key] != dict_test[key]:    \n",
        "                FNC+=1\n",
        "#print(TPC,TNC,FPC,FNC)                \n",
        "                \n",
        "                "
      ],
      "execution_count": 9,
      "outputs": []
    },
    {
      "cell_type": "code",
      "metadata": {
        "colab": {
          "base_uri": "https://localhost:8080/"
        },
        "id": "bvRjWJt6M6rE",
        "outputId": "f874cdd7-042a-49f9-9817-ba5db7e59060"
      },
      "source": [
        "Accuracy=(TPC+TNC)/(TPC+TNC+FPC+FNC)\n",
        "print(\"Accuracy=\",round(Accuracy*100,2),\"% \")"
      ],
      "execution_count": 10,
      "outputs": [
        {
          "output_type": "stream",
          "text": [
            "Accuracy= 84.62 % \n"
          ],
          "name": "stdout"
        }
      ]
    },
    {
      "cell_type": "code",
      "metadata": {
        "id": "ZGQF-JFpM6rE"
      },
      "source": [
        ""
      ],
      "execution_count": 10,
      "outputs": []
    }
  ]
}